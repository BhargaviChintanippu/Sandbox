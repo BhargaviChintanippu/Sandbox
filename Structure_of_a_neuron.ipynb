{
 "cells": [
  {
   "cell_type": "markdown",
   "metadata": {},
   "source": [
    "# Structure of a neuron"
   ]
  },
  {
   "cell_type": "markdown",
   "metadata": {
    "collapsed": true
   },
   "source": [
    "To understand a neural network you need to understand its basic unit: the neuron. The idea is actually quite simple. Each neuron has a certain number of inputs (let's indicate this number with $n_x$, also sometime called number of features, and an output, usually indicated with $y$. The neuron itself simply apply a function to the inputs $x_i$ (with $i \\in \\{1, 2, ..., n_x\\}$) to get the output $y$. This is usually drawn as in Fig. 1 below."
   ]
  },
  {
   "cell_type": "markdown",
   "metadata": {
    "collapsed": true
   },
   "source": [
    " ![](neuron_fig1.svg) \n",
    " **Fig. 1** The structure of a neuron. $x_i$ are the input, $w_i$ are the weights."
   ]
  },
  {
   "cell_type": "markdown",
   "metadata": {},
   "source": [
    "The interesting part is what function does the neuron apply to the inputs. This is what will make all the difference. Depending on the choice of the function we will be able to do different things: regression, classification, etc. Usually neural networks, and especially deep learning, are composed of million (or even more) neurons to achieve all the incredible feats we all read in the news. But we can do a lot with just one. We will look at several practical examples that can be solved with just one simple neuron.\n",
    "\n",
    "To conitnue with notations and nomenclature the function the neuron is applying to the inputs is usually called the activation function. Depenending on the activation function we choose, the neuron will get different names."
   ]
  },
  {
   "cell_type": "markdown",
   "metadata": {},
   "source": [
    "<img src=\"images/neuron_fig1.png\" width=\"400\"/>"
   ]
  },
  {
   "cell_type": "markdown",
   "metadata": {},
   "source": [
    "SVG Test 1"
   ]
  },
  {
   "cell_type": "markdown",
   "metadata": {},
   "source": [
    "\n",
    "<img src=\"images/neuronfig1.svg\"/>\n",
    "\n",
    "asd\n"
   ]
  },
  {
   "cell_type": "markdown",
   "metadata": {},
   "source": [
    "![](images/neuron_fig1.svg) "
   ]
  },
  {
   "cell_type": "code",
   "execution_count": null,
   "metadata": {
    "collapsed": true
   },
   "outputs": [],
   "source": []
  }
 ],
 "metadata": {
  "kernelspec": {
   "display_name": "Python 3",
   "language": "python",
   "name": "python3"
  },
  "language_info": {
   "codemirror_mode": {
    "name": "ipython",
    "version": 3
   },
   "file_extension": ".py",
   "mimetype": "text/x-python",
   "name": "python",
   "nbconvert_exporter": "python",
   "pygments_lexer": "ipython3",
   "version": "3.5.3"
  }
 },
 "nbformat": 4,
 "nbformat_minor": 2
}

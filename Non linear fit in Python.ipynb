{
 "cells": [
  {
   "cell_type": "markdown",
   "metadata": {},
   "source": [
    "# Non linear fit in Python"
   ]
  },
  {
   "cell_type": "markdown",
   "metadata": {},
   "source": [
    "Note: this example has been taken from a post I wrote on stackoverflow when I explain a poster how to do non linear fit in Python (Link: https://stackoverflow.com/questions/45033230/multivariate-linear-regression-using-a-defined-function-on-python)"
   ]
  },
  {
   "cell_type": "code",
   "execution_count": 3,
   "metadata": {
    "collapsed": true
   },
   "outputs": [],
   "source": [
    "import numpy as np\n",
    "import matplotlib.pyplot as plt\n",
    "from scipy.optimize import curve_fit"
   ]
  },
  {
   "cell_type": "markdown",
   "metadata": {},
   "source": [
    "We need to define a function that we will use for fitting our data. In this example `p` is an array containing our input values (sometimes indicated as `x`). In our function we will not do any sanity check (for example if all components of `p` are numbers and so on). This can be done by `curve_fit` using the parameter `check_finite` (Check the documentation [scipy.curve_fit documentation](https://docs.scipy.org/doc/scipy-0.19.0/reference/generated/scipy.optimize.curve_fit.html)). The fit parameters are in this example `a,b,c`. "
   ]
  },
  {
   "cell_type": "code",
   "execution_count": 4,
   "metadata": {
    "collapsed": false
   },
   "outputs": [],
   "source": [
    "def func(p, a, b, c): \n",
    "    return a*p[0] + b*(p[0]/(p[0]+p[1]+p[2]))+c"
   ]
  },
  {
   "cell_type": "markdown",
   "metadata": {},
   "source": [
    "Now let's create some fake data. Our `p_*` arrays will be our input data, and `s_1` will be our expected output. After having defined the data as Python lists, we will convert to numpy arrays."
   ]
  },
  {
   "cell_type": "code",
   "execution_count": 5,
   "metadata": {
    "collapsed": true
   },
   "outputs": [],
   "source": [
    "p_1_data = [6799, 7999, 7999, 7999]\n",
    "p_2_data = [10199, 10799, 10199, 11999]\n",
    "p_3_data = [10199, 10799, 10199, 11999]\n",
    "s_1_data = [3, 2.3, 2.2, 2.2]\n",
    "\n",
    "xdata = np.vstack((p_1_data, p_2_data, p_3_data))\n",
    "s_1_data = np.array(s_1_data)\n"
   ]
  },
  {
   "cell_type": "markdown",
   "metadata": {},
   "source": [
    "Each column in xdata repsent an observation. So the first element in the first column would be p[0], the second p[1] and the third p[1]. The second column is a separate observation and so on."
   ]
  },
  {
   "cell_type": "code",
   "execution_count": 6,
   "metadata": {
    "collapsed": false
   },
   "outputs": [
    {
     "name": "stdout",
     "output_type": "stream",
     "text": [
      "[[ 6799  7999  7999  7999]\n",
      " [10199 10799 10199 11999]\n",
      " [10199 10799 10199 11999]]\n",
      "[ 3.   2.3  2.2  2.2]\n"
     ]
    }
   ],
   "source": [
    "print(xdata)\n",
    "print(s_1_data)"
   ]
  },
  {
   "cell_type": "markdown",
   "metadata": {},
   "source": [
    "Now we do the actual fitting, calling the `curve_fit` function."
   ]
  },
  {
   "cell_type": "code",
   "execution_count": 7,
   "metadata": {
    "collapsed": false
   },
   "outputs": [],
   "source": [
    "popt, pcov = curve_fit(func, xdata, s_1_data)"
   ]
  },
  {
   "cell_type": "markdown",
   "metadata": {},
   "source": [
    "In the `popt` list we wil find the parameters found by the function, and in the `pcov` the covariance matrix.\n",
    "\n",
    "Note that the algorithm uses the Levenberg-Marquardt algorithm through [leastsq](https://docs.scipy.org/doc/scipy-0.19.0/reference/generated/scipy.optimize.leastsq.html#scipy.optimize.leastsq). Note that this algorithm can only deal with unconstrained problems."
   ]
  },
  {
   "cell_type": "code",
   "execution_count": 8,
   "metadata": {
    "collapsed": false,
    "scrolled": true
   },
   "outputs": [
    {
     "name": "stdout",
     "output_type": "stream",
     "text": [
      " fit coefficients (a, b, c):\n",
      " [ -6.47154460e-04   5.72580624e-01   7.25686328e+00]\n"
     ]
    }
   ],
   "source": [
    "print (' fit coefficients (a, b, c):\\n', popt)"
   ]
  },
  {
   "cell_type": "markdown",
   "metadata": {},
   "source": [
    "Now let's check the predictions of our model and compare them with the expected values"
   ]
  },
  {
   "cell_type": "code",
   "execution_count": 15,
   "metadata": {
    "collapsed": false
   },
   "outputs": [
    {
     "name": "stdout",
     "output_type": "stream",
     "text": [
      "Predicted value:  3.00 - Expected value:  3.0\n",
      "Predicted value:  2.24 - Expected value:  2.3\n",
      "Predicted value:  2.24 - Expected value:  2.2\n",
      "Predicted value:  2.22 - Expected value:  2.2\n"
     ]
    }
   ],
   "source": [
    "for i in range(0,4):\n",
    "    print('Predicted value: ', \"%.2f\" % func(xdata[:,i], popt[0], popt[1], popt[2]), '- Expected value: ', s_1_data[i])"
   ]
  },
  {
   "cell_type": "code",
   "execution_count": null,
   "metadata": {
    "collapsed": true
   },
   "outputs": [],
   "source": []
  }
 ],
 "metadata": {
  "kernelspec": {
   "display_name": "Python 3",
   "language": "python",
   "name": "python3"
  },
  "language_info": {
   "codemirror_mode": {
    "name": "ipython",
    "version": 3
   },
   "file_extension": ".py",
   "mimetype": "text/x-python",
   "name": "python",
   "nbconvert_exporter": "python",
   "pygments_lexer": "ipython3",
   "version": "3.6.0"
  }
 },
 "nbformat": 4,
 "nbformat_minor": 2
}

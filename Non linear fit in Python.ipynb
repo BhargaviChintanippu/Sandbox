{
 "cells": [
  {
   "cell_type": "markdown",
   "metadata": {},
   "source": [
    "# Non linear fit in Python"
   ]
  },
  {
   "cell_type": "code",
   "execution_count": 1,
   "metadata": {
    "collapsed": true
   },
   "outputs": [],
   "source": [
    "import numpy as np\n",
    "import matplotlib.pyplot as plt\n",
    "from scipy.optimize import curve_fit"
   ]
  },
  {
   "cell_type": "code",
   "execution_count": 48,
   "metadata": {
    "collapsed": false
   },
   "outputs": [],
   "source": [
    "def func(p, a, b, c): \n",
    "    return a*p[0] + b*(p[0]/(p[0]+p[1]+p[2]))+c"
   ]
  },
  {
   "cell_type": "code",
   "execution_count": 49,
   "metadata": {
    "collapsed": true
   },
   "outputs": [],
   "source": [
    "p_1_data = [6799, 7999, 7999, 7999]\n",
    "p_2_data = [10199, 10799, 10199, 11999]\n",
    "p_3_data = [10199, 10799, 10199, 11999]\n",
    "s_1_data = [3, 2.3, 2.2, 2.2]\n",
    "s_2_data = [8, 5, 7.5, 3]\n",
    "s_3_data = [6, 3, 5.6, 1.3]\n",
    "\n",
    "xdata = np.vstack((p_1_data, p_2_data, p_3_data))\n",
    "\n",
    "s_1_data = np.array(s_1_data)\n"
   ]
  },
  {
   "cell_type": "code",
   "execution_count": 50,
   "metadata": {
    "collapsed": false
   },
   "outputs": [
    {
     "name": "stdout",
     "output_type": "stream",
     "text": [
      "[[ 6799  7999  7999  7999]\n",
      " [10199 10799 10199 11999]\n",
      " [10199 10799 10199 11999]]\n",
      "[ 3.   2.3  2.2  2.2]\n"
     ]
    }
   ],
   "source": [
    "print(xdata)\n",
    "print(s_1_data)"
   ]
  },
  {
   "cell_type": "code",
   "execution_count": 51,
   "metadata": {
    "collapsed": false
   },
   "outputs": [],
   "source": [
    "popt, pcov = curve_fit(func, xdata, s_1_data)"
   ]
  },
  {
   "cell_type": "code",
   "execution_count": 58,
   "metadata": {
    "collapsed": false,
    "scrolled": true
   },
   "outputs": [
    {
     "name": "stdout",
     "output_type": "stream",
     "text": [
      " fit coefficients (a, b, c):\n",
      " [ -6.47154460e-04   5.72580624e-01   7.25686328e+00]\n"
     ]
    }
   ],
   "source": [
    "print (' fit coefficients (a, b, c):\\n', popt)"
   ]
  },
  {
   "cell_type": "code",
   "execution_count": 70,
   "metadata": {
    "collapsed": false
   },
   "outputs": [
    {
     "name": "stdout",
     "output_type": "stream",
     "text": [
      "3.0  Expected value:  3.0\n",
      "2.23502261497  Expected value:  2.3\n",
      "2.24156194771  Expected value:  2.2\n",
      "2.22341543731  Expected value:  2.2\n"
     ]
    }
   ],
   "source": [
    "for i in range(0,4):\n",
    "    print(func(xdata[:,i], popt[0], popt[1], popt[2]), ' Expected value: ', s_1_data[i])\n",
    "    \n",
    "#print(func(xdata[:,1], popt[0], popt[1], popt[2]), ' Expected value: ', s_1_data[1])\n",
    "#print(func(xdata[:,2], popt[0], popt[1], popt[2]), ' Expected value: ', s_1_data[2])\n",
    "#print(func(xdata[:,3], popt[0], popt[1], popt[2]), ' Expected value: ', s_1_data[3])"
   ]
  },
  {
   "cell_type": "code",
   "execution_count": null,
   "metadata": {
    "collapsed": true
   },
   "outputs": [],
   "source": []
  }
 ],
 "metadata": {
  "kernelspec": {
   "display_name": "Python 3",
   "language": "python",
   "name": "python3"
  },
  "language_info": {
   "codemirror_mode": {
    "name": "ipython",
    "version": 3
   },
   "file_extension": ".py",
   "mimetype": "text/x-python",
   "name": "python",
   "nbconvert_exporter": "python",
   "pygments_lexer": "ipython3",
   "version": "3.6.0"
  }
 },
 "nbformat": 4,
 "nbformat_minor": 2
}
